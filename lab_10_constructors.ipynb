class Animal:
    def __init__(self):
        print("An Animal has been created!")
