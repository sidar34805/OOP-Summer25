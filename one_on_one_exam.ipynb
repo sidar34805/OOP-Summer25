{
 "cells": [
  {
   "cell_type": "code",
   "execution_count": null,
   "id": "c46b9866",
   "metadata": {
    "vscode": {
     "languageId": "plaintext"
    }
   },
   "outputs": [],
   "source": [
    "print('Sidar Tanriverdi)\n",
    "x = 6 \n",
    "print(x)\n",
    "print(type(x))\n",
    "my_cat = "
   ]
  }
 ],
 "metadata": {
  "language_info": {
   "name": "python"
  }
 },
 "nbformat": 4,
 "nbformat_minor": 5
}
